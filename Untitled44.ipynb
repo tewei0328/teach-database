{
  "nbformat": 4,
  "nbformat_minor": 0,
  "metadata": {
    "colab": {
      "provenance": [],
      "authorship_tag": "ABX9TyPD+SEhQe0i5z9G3iBlUtIE",
      "include_colab_link": true
    },
    "kernelspec": {
      "name": "python3",
      "display_name": "Python 3"
    },
    "language_info": {
      "name": "python"
    }
  },
  "cells": [
    {
      "cell_type": "markdown",
      "metadata": {
        "id": "view-in-github",
        "colab_type": "text"
      },
      "source": [
        "<a href=\"https://colab.research.google.com/github/tewei0328/teach-database/blob/main/Untitled44.ipynb\" target=\"_parent\"><img src=\"https://colab.research.google.com/assets/colab-badge.svg\" alt=\"Open In Colab\"/></a>"
      ]
    },
    {
      "cell_type": "code",
      "execution_count": 1,
      "metadata": {
        "colab": {
          "base_uri": "https://localhost:8080/"
        },
        "id": "F0SNBy4DiPjh",
        "outputId": "721097d0-66df-414d-f4d8-a65272c9c617"
      },
      "outputs": [
        {
          "output_type": "execute_result",
          "data": {
            "text/plain": [
              "[(1234, 'Spoon', 33), (3781, 'Plate', 20), (4598, 'Cup', 51)]"
            ]
          },
          "metadata": {},
          "execution_count": 1
        }
      ],
      "source": [
        "import sqlite3\n",
        "\n",
        "conn=sqlite3.connect('aaa.db')\n",
        "\n",
        "c=conn.cursor()\n",
        "\n",
        "c.execute(\"\"\"CREATE TABLE Product(\n",
        "\n",
        "ID integer,\n",
        "\n",
        "Name text,\n",
        "\n",
        "Quantity integer\n",
        "\n",
        ")\"\"\")\n",
        "\n",
        "c.execute(\"INSERT INTO Product values(1234, 'Spoon', 33)\")\n",
        "\n",
        "c.execute(\"INSERT INTO Product values(2615, 'Fork', 17)\")\n",
        "\n",
        "c.execute(\"INSERT INTO Product values(3781, 'Plate', 20)\")\n",
        "\n",
        "c.execute(\"INSERT INTO Product values(4598, 'Cup', 51)\")\n",
        "\n",
        "c.execute(\"SELECT * FROM Product where Quantity>18\")\n",
        "\n",
        "c.fetchall()"
      ]
    }
  ]
}